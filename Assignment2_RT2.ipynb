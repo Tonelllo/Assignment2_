{
 "cells": [
  {
   "cell_type": "code",
   "execution_count": 2,
   "id": "599e596e",
   "metadata": {
    "ExecuteTime": {
     "end_time": "2024-04-24T22:39:44.276358Z",
     "start_time": "2024-04-24T22:39:43.911249Z"
    }
   },
   "outputs": [],
   "source": [
    "import matplotlib.pyplot as plt\n",
    "import rospy\n",
    "import ipywidgets as widgets\n",
    "from ipywidgets import Button, Layout, ButtonStyle, VBox, HBox, Label\n",
    "from assignment_2_2023.msg import CustomStatus\n",
    "from assignment_2_2023.srv import Input, Goal\n",
    "from turtlesim.msg import Pose\n",
    "from matplotlib.animation import FuncAnimation\n",
    "import threading\n",
    "import time"
   ]
  },
  {
   "cell_type": "code",
   "execution_count": 3,
   "id": "a5d105c8",
   "metadata": {
    "ExecuteTime": {
     "end_time": "2024-04-24T22:39:44.294835Z",
     "start_time": "2024-04-24T22:39:44.279361Z"
    }
   },
   "outputs": [],
   "source": [
    "class Visualiser:\n",
    "    def _setup_world(self):\n",
    "        # box border\n",
    "        self.ax1.plot([9.5,-9.5,-9.5,9.5,9.5],[9.5,9.5,-9.5,-9.5,9.5],'y')\n",
    "        # obstacles\n",
    "        self.ax1.plot([4, -5, -5], [-0.5, -0.5, -5], 'brown')\n",
    "        self.ax1.plot([-7,5], [4.5,4.5], 'brown')\n",
    "        \n",
    "    def _set_goal_status(self):\n",
    "        counter = 0\n",
    "        while(True):\n",
    "            goal = self.get_goal()\n",
    "            output_display.value = goal.status\n",
    "            if not self.first_exec and goal.status != self._old_goal_status:\n",
    "                if goal.status == 'Reached':\n",
    "                    self.reached += 1\n",
    "                    self._update_pie(True)\n",
    "                elif goal.status == 'Canceled':\n",
    "                    self.canceled += 1\n",
    "                    self._update_pie(False)\n",
    "            if self.first_exec:\n",
    "                self.first_exec = False\n",
    "            self._old_goal_status = goal.status\n",
    "            time.sleep(1)\n",
    "    \n",
    "    def __init__(self):\n",
    "        #self.fig, self.ax = plt.subplots()\n",
    "        self.fig = plt.figure()\n",
    "        self.ax1 = self.fig.add_subplot(121)\n",
    "        self.ln, = plt.plot([], [], 'b-')\n",
    "        self.ax2 = self.fig.add_subplot(122)\n",
    "        self.ax2.pie([0,0], labels=['Reached', 'Canceled'])\n",
    "        self.x_data, self.y_data = [], []\n",
    "        self.reached, self.canceled = 0,0\n",
    "        self.runner_thread = None\n",
    "        self._old_goal_status = None\n",
    "        self.first_exec = True\n",
    "        self.send_input = rospy.ServiceProxy('/assignment2_2023/input_string', Input)\n",
    "        self.get_goal = rospy.ServiceProxy('/assignment_2_2023/last_goal', Goal)\n",
    "\n",
    "\n",
    "    def plot_init(self):\n",
    "        self.ax1.set_xlim(-10, 10)\n",
    "        self.ax1.set_ylim(-10, 10)\n",
    "        self.ax1.set_title(\"Assignment display\")\n",
    "        self.ax1.set_xlabel(\"x\")\n",
    "        self.ax1.set_ylabel(\"y\")\n",
    "        self.ax1.invert_xaxis()\n",
    "        self.ax1.invert_yaxis()\n",
    "        self.ax1.set_aspect('equal', adjustable='box')\n",
    "        self._setup_world()\n",
    "        return self.ln,\n",
    "\n",
    "    def odom_callback(self, msg):\n",
    "        self.y_data.append(msg.y)\n",
    "        self.x_data.append(msg.x)\n",
    "\n",
    "    def update_plot(self, frame):\n",
    "        self.ln.set_data(self.x_data, self.y_data)\n",
    "        return self.ln,\n",
    "    \n",
    "    def on_send_goal_pressed(self, a):\n",
    "        self.send_input(\"(\"+str(next_position_x.value)+\",\"+str(next_position_y.value)+\")\")\n",
    "        self.ax1.plot(next_position_x.value, next_position_y.value, 'go')\n",
    "    \n",
    "    def on_cancel_pressed(self, b):\n",
    "        goal = self.get_goal()\n",
    "        self.send_input(\"cancel\")\n",
    "        self.ax1.plot(goal.goal_x, goal.goal_y, 'ro')\n",
    "\n",
    "\n",
    "    def activate_goal_status_reception(self):\n",
    "        self.runner_thread = threading.Thread(target=self._set_goal_status)\n",
    "        self.runner_thread.start()\n",
    "        \n",
    "    def _update_pie(self, success):\n",
    "        self.ax2.clear()\n",
    "        self.ax1.set_title(success)\n",
    "        if success :\n",
    "            self.reached += 1\n",
    "        else:\n",
    "            self.canceled += 1\n",
    "        self.ax2.pie([self.reached, self.canceled], labels=['Reached', 'Canceled'])\n",
    "        #self.fig.canvas.draw_idle()\n",
    "            "
   ]
  },
  {
   "cell_type": "code",
   "execution_count": 4,
   "id": "d5928293",
   "metadata": {
    "ExecuteTime": {
     "end_time": "2024-04-24T22:39:44.349544Z",
     "start_time": "2024-04-24T22:39:44.296515Z"
    }
   },
   "outputs": [
    {
     "data": {
      "application/vnd.jupyter.widget-view+json": {
       "model_id": "283e07c8d464479cbfbe90079a0741cb",
       "version_major": 2,
       "version_minor": 0
      },
      "text/plain": [
       "VBox(children=(HBox(children=(Label(value='Please enter the next goal -> '), FloatText(value=1.0, description=…"
      ]
     },
     "metadata": {},
     "output_type": "display_data"
    }
   ],
   "source": [
    "next_position_x = widgets.FloatText(\n",
    "    value=1,\n",
    "    description='X:',\n",
    "    disabled=False,\n",
    "    layout=Layout(width = '150px', align = \"left\")\n",
    ")\n",
    "\n",
    "next_position_y = widgets.FloatText(\n",
    "    value=1,\n",
    "    description='Y:',\n",
    "    disabled=False,\n",
    "    layout = Layout(width = '150px')\n",
    ")\n",
    "\n",
    "send_goal = Button(\n",
    "    description='Send Goal',\n",
    "    style=ButtonStyle(button_color='lightgreen')\n",
    ")\n",
    "\n",
    "cancel = Button(\n",
    "    description='Cancel',\n",
    "    layout=Layout(width='auto', align=\"center\"),\n",
    "    style=ButtonStyle(button_color='red')\n",
    ")\n",
    "\n",
    "output_display = widgets.Text(description='Status: ', disabled=True)\n",
    "\n",
    "a = VBox(\n",
    "    [\n",
    "        HBox([\n",
    "                Label(\"Please enter the next goal -> \"),\n",
    "                next_position_x, \n",
    "                next_position_y, \n",
    "                send_goal, \n",
    "                cancel\n",
    "            ]),\n",
    "        output_display,\n",
    "        Label(\"Position graph:\"),\n",
    "    ]\n",
    ")\n",
    "\n",
    "display(a)"
   ]
  },
  {
   "cell_type": "code",
   "execution_count": 5,
   "id": "052de9cd",
   "metadata": {
    "ExecuteTime": {
     "end_time": "2024-04-24T22:39:44.542209Z",
     "start_time": "2024-04-24T22:39:44.351213Z"
    }
   },
   "outputs": [
    {
     "data": {
      "application/vnd.jupyter.widget-view+json": {
       "model_id": "1d436994e3024f6d8e8d15caa146949b",
       "version_major": 2,
       "version_minor": 0
      },
      "text/plain": [
       "Canvas(toolbar=Toolbar(toolitems=[('Home', 'Reset original view', 'home', 'home'), ('Back', 'Back to previous …"
      ]
     },
     "metadata": {},
     "output_type": "display_data"
    }
   ],
   "source": [
    "rospy.wait_for_service('/assignment2_2023/input_string');\n",
    "rospy.wait_for_service('/assignment_2_2023/last_goal');\n",
    "\n",
    "%matplotlib widget\n",
    "rospy.init_node('Assignment2_RT2')\n",
    "vis = Visualiser()\n",
    "send_goal.on_click(vis.on_send_goal_pressed)\n",
    "cancel.on_click(vis.on_cancel_pressed)\n",
    "sub = rospy.Subscriber('assignment_2_2023/customStatus', CustomStatus, vis.odom_callback)\n",
    "ani = FuncAnimation(vis.fig, vis.update_plot, init_func=vis.plot_init)\n",
    "vis.activate_goal_status_reception()\n",
    "plt.show(block=True)"
   ]
  },
  {
   "cell_type": "code",
   "execution_count": null,
   "id": "571d8175",
   "metadata": {
    "ExecuteTime": {
     "end_time": "2024-04-13T12:38:04.722660Z",
     "start_time": "2024-04-13T12:38:04.140181Z"
    }
   },
   "outputs": [],
   "source": []
  }
 ],
 "metadata": {
  "kernelspec": {
   "display_name": "Python 3 (ipykernel)",
   "language": "python",
   "name": "python3"
  },
  "language_info": {
   "codemirror_mode": {
    "name": "ipython",
    "version": 3
   },
   "file_extension": ".py",
   "mimetype": "text/x-python",
   "name": "python",
   "nbconvert_exporter": "python",
   "pygments_lexer": "ipython3",
   "version": "3.8.5"
  },
  "toc": {
   "base_numbering": 1,
   "nav_menu": {},
   "number_sections": true,
   "sideBar": true,
   "skip_h1_title": false,
   "title_cell": "Table of Contents",
   "title_sidebar": "Contents",
   "toc_cell": false,
   "toc_position": {
    "height": "calc(100% - 180px)",
    "left": "10px",
    "top": "150px",
    "width": "374px"
   },
   "toc_section_display": true,
   "toc_window_display": true
  },
  "varInspector": {
   "cols": {
    "lenName": 16,
    "lenType": 16,
    "lenVar": 40
   },
   "kernels_config": {
    "python": {
     "delete_cmd_postfix": "",
     "delete_cmd_prefix": "del ",
     "library": "var_list.py",
     "varRefreshCmd": "print(var_dic_list())"
    },
    "r": {
     "delete_cmd_postfix": ") ",
     "delete_cmd_prefix": "rm(",
     "library": "var_list.r",
     "varRefreshCmd": "cat(var_dic_list()) "
    }
   },
   "types_to_exclude": [
    "module",
    "function",
    "builtin_function_or_method",
    "instance",
    "_Feature"
   ],
   "window_display": false
  }
 },
 "nbformat": 4,
 "nbformat_minor": 5
}
