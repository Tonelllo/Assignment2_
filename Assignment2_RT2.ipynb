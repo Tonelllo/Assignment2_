{
 "cells": [
  {
   "cell_type": "markdown",
   "id": "0d14566d",
   "metadata": {},
   "source": [
    "# Assignment2 for RT2\n",
    "## Importing the required packages"
   ]
  },
  {
   "cell_type": "code",
   "execution_count": null,
   "id": "3e613528-90b0-4ed0-80bc-c9a1bf750d2f",
   "metadata": {},
   "outputs": [],
   "source": [
    "import rospy\n",
    "import ipywidgets as widgets\n",
    "from ipywidgets import Button, Layout, ButtonStyle, VBox, HBox, Label\n",
    "from assignment_2_2023.msg import CustomStatus\n",
    "from assignment_2_2023.srv import Input, Goal\n",
    "import numpy as np\n",
    "import matplotlib as mpl\n",
    "import matplotlib.pyplot as plt\n",
    "import threading\n",
    "import time"
   ]
  },
  {
   "cell_type": "markdown",
   "id": "0b9f8a5b",
   "metadata": {},
   "source": [
    "## Setting up the interface"
   ]
  },
  {
   "cell_type": "code",
   "execution_count": null,
   "id": "ed2507f2",
   "metadata": {},
   "outputs": [],
   "source": [
    "next_position_x = widgets.FloatText(\n",
    "    value=1,\n",
    "    description='X:',\n",
    "    disabled=False,\n",
    "    layout=Layout(width = '150px', align = \"left\")\n",
    ")\n",
    "\n",
    "next_position_y = widgets.FloatText(\n",
    "    value=1,\n",
    "    description='Y:',\n",
    "    disabled=False,\n",
    "    layout = Layout(width = '150px')\n",
    ")\n",
    "\n",
    "send_goal = Button(\n",
    "    description='Send Goal',\n",
    "    style=ButtonStyle(button_color='lightgreen')\n",
    ")\n",
    "\n",
    "cancel = Button(\n",
    "    description='Cancel',\n",
    "    layout=Layout(width='auto', align=\"center\"),\n",
    "    style=ButtonStyle(button_color='red')\n",
    ")\n",
    "\n",
    "output_display = widgets.Text(description='Status: ', disabled=True)\n",
    "\n",
    "a = VBox(\n",
    "    [\n",
    "        HBox([\n",
    "                Label(\"Please enter the next goal -> \"),\n",
    "                next_position_x, \n",
    "                next_position_y, \n",
    "                send_goal, \n",
    "                cancel\n",
    "            ]),\n",
    "        output_display,\n",
    "        Label(\"Position graph:\"),\n",
    "    ]\n",
    ")"
   ]
  },
  {
   "cell_type": "markdown",
   "id": "2ede7503",
   "metadata": {},
   "source": [
    "## Declaring the functions to display data on the screen and callbacks for the ui"
   ]
  },
  {
   "cell_type": "code",
   "execution_count": null,
   "id": "bf217bff",
   "metadata": {},
   "outputs": [],
   "source": [
    "x_plot = []\n",
    "y_plot = []\n",
    "\n",
    "def plot(x_plot,y_plot):\n",
    "    np_x_plot = np.array(x_plot)\n",
    "    np_y_plot = np.array(y_plot)\n",
    "    ax.plot(np_x_plot,np_y_plot, 'b')\n",
    "\n",
    "            \n",
    "def positionCallback(msg):\n",
    "    global x_plot, y_plot \n",
    "    x_plot.append(msg.x)\n",
    "    y_plot.append(msg.y)\n",
    "    plot(x_plot,y_plot)    \n",
    "\n",
    "\n",
    "def on_send_goal_pressed(a):\n",
    "    send_input(\"(\"+str(next_position_x.value)+\",\"+str(next_position_y.value)+\")\")\n",
    "    ax.plot(next_position_x.value, next_position_y.value, 'go')\n",
    "    \n",
    "def on_cancel_pressed(b):\n",
    "    goal = get_goal()\n",
    "    send_input(\"cancel\")\n",
    "    ax.plot(goal.goal_x, goal.goal_y, 'ro')\n",
    "    \n",
    "def set_goal_status():\n",
    "    counter = 0\n",
    "    while(True):\n",
    "        goal = get_goal()\n",
    "        output_display.value = goal.status\n",
    "        time.sleep(1)\n",
    "    \n",
    "send_goal.on_click(on_send_goal_pressed)\n",
    "cancel.on_click(on_cancel_pressed)\n",
    "\n",
    "# Displaying the interface\n",
    "display(a)"
   ]
  },
  {
   "cell_type": "markdown",
   "id": "d4584dce",
   "metadata": {},
   "source": [
    "## Declaring the subscriber and initializing the node"
   ]
  },
  {
   "cell_type": "code",
   "execution_count": null,
   "id": "4e9ddd0f",
   "metadata": {},
   "outputs": [],
   "source": [
    "%matplotlib widget\n",
    "rospy.init_node('input_sender')\n",
    "sub = rospy.Subscriber('assignment_2_2023/customStatus', CustomStatus, positionCallback)"
   ]
  },
  {
   "cell_type": "markdown",
   "id": "8e275733",
   "metadata": {},
   "source": [
    "## Initializing the matplotlib figure"
   ]
  },
  {
   "cell_type": "code",
   "execution_count": null,
   "id": "f04a335d",
   "metadata": {},
   "outputs": [],
   "source": [
    "fig = plt.figure()\n",
    "ax = fig.add_axes([0,0,1,1])\n",
    "ax.set_xlim(-15, 15)\n",
    "ax.set_ylim(-15, 15)\n",
    "ax.set_title(\"Assignment display\")\n",
    "ax.set_xlabel(\"x\")\n",
    "ax.set_ylabel(\"y\")\n",
    "ax.invert_xaxis()\n",
    "ax.invert_yaxis()\n",
    "ax.set_aspect('equal', adjustable='box')"
   ]
  },
  {
   "cell_type": "markdown",
   "id": "23855509",
   "metadata": {},
   "source": [
    "## Displaying the borders of the arena and the obstacles in the middle"
   ]
  },
  {
   "cell_type": "code",
   "execution_count": null,
   "id": "da15498f",
   "metadata": {},
   "outputs": [],
   "source": [
    "# box border\n",
    "ax.plot([10,-10,-10,10,10],[10,10,-10,-10,10],'y')\n",
    "# obstacles\n",
    "ax.plot([4, -5, -5], [-0.5, -0.5, -5], 'brown')\n",
    "ax.plot([-7,5], [4.5,4.5], 'brown')"
   ]
  },
  {
   "cell_type": "markdown",
   "id": "14999691",
   "metadata": {},
   "source": [
    "## Waiting and subscribing to the required services"
   ]
  },
  {
   "cell_type": "code",
   "execution_count": 1,
   "id": "b7c47f7c",
   "metadata": {
    "ExecuteTime": {
     "end_time": "2024-04-09T15:44:59.598664Z",
     "start_time": "2024-04-09T15:44:13.154689Z"
    },
    "scrolled": false
   },
   "outputs": [
    {
     "data": {
      "application/vnd.jupyter.widget-view+json": {
       "model_id": "8b9da14f5bdf41fd958ddd40b496064c",
       "version_major": 2,
       "version_minor": 0
      },
      "text/plain": [
       "VBox(children=(HBox(children=(Label(value='Please enter the next goal -> '), FloatText(value=1.0, description=…"
      ]
     },
     "metadata": {},
     "output_type": "display_data"
    },
    {
     "name": "stdout",
     "output_type": "stream",
     "text": [
      "Unable to register with master node [http://localhost:11311]: master may not be running yet. Will keep trying.\n"
     ]
    },
    {
     "data": {
      "application/vnd.jupyter.widget-view+json": {
       "model_id": "8a2eaa792d954f2f9d63382fbea3664c",
       "version_major": 2,
       "version_minor": 0
      },
      "text/plain": [
       "Canvas(toolbar=Toolbar(toolitems=[('Home', 'Reset original view', 'home', 'home'), ('Back', 'Back to previous …"
      ]
     },
     "metadata": {},
     "output_type": "display_data"
    }
   ],
   "source": [
    "rospy.wait_for_service('/assignment2_2023/input_string');\n",
    "rospy.wait_for_service('/assignment_2_2023/last_goal');\n",
    "send_input = rospy.ServiceProxy('/assignment2_2023/input_string', Input)\n",
    "get_goal = rospy.ServiceProxy('/assignment_2_2023/last_goal', Goal)"
   ]
  },
  {
   "cell_type": "markdown",
   "id": "d1f3d0bb",
   "metadata": {},
   "source": [
    "## Starting the thread that periodically calls the service for the goal status"
   ]
  },
  {
   "cell_type": "code",
   "execution_count": null,
   "id": "8b2d77a8",
   "metadata": {},
   "outputs": [],
   "source": [
    "thread = threading.Thread(target=set_goal_status)\n",
    "thread.start()"
   ]
  }
 ],
 "metadata": {
  "kernelspec": {
   "display_name": "Python 3 (ipykernel)",
   "language": "python",
   "name": "python3"
  },
  "language_info": {
   "codemirror_mode": {
    "name": "ipython",
    "version": 3
   },
   "file_extension": ".py",
   "mimetype": "text/x-python",
   "name": "python",
   "nbconvert_exporter": "python",
   "pygments_lexer": "ipython3",
   "version": "3.8.5"
  },
  "name": "Assignment2_RT2.ipynb",
  "toc": {
   "base_numbering": 1,
   "nav_menu": {
    "height": "12px",
    "width": "252px"
   },
   "number_sections": true,
   "sideBar": true,
   "skip_h1_title": false,
   "title_cell": "Table of Contents",
   "title_sidebar": "Contents",
   "toc_cell": false,
   "toc_position": null,
   "toc_section_display": true,
   "toc_window_display": false
  },
  "varInspector": {
   "cols": {
    "lenName": 16,
    "lenType": 16,
    "lenVar": 40
   },
   "kernels_config": {
    "python": {
     "delete_cmd_postfix": "",
     "delete_cmd_prefix": "del ",
     "library": "var_list.py",
     "varRefreshCmd": "print(var_dic_list())"
    },
    "r": {
     "delete_cmd_postfix": ") ",
     "delete_cmd_prefix": "rm(",
     "library": "var_list.r",
     "varRefreshCmd": "cat(var_dic_list()) "
    }
   },
   "types_to_exclude": [
    "module",
    "function",
    "builtin_function_or_method",
    "instance",
    "_Feature"
   ],
   "window_display": false
  }
 },
 "nbformat": 4,
 "nbformat_minor": 5
}
