{
 "cells": [
  {
   "cell_type": "code",
   "execution_count": null,
   "id": "ba1da048",
   "metadata": {
    "ExecuteTime": {
     "start_time": "2024-04-06T10:51:36.867Z"
    }
   },
   "outputs": [],
   "source": [
    "import rospy\n",
    "from assignment_2_2023.srv import Input\n",
    "\n",
    "def main():\n",
    "    rospy.init_node('input_sender')\n",
    "    rospy.wait_for_service('/assignment2_2023/input_string');\n",
    "    send_input = rospy.ServiceProxy('/assignment2_2023/input_string', Input)\n",
    "    \n",
    "\n",
    "    send_input(\"(1,1)\")\n",
    "    rospy.spin()\n",
    "    \n",
    "    \n",
    "if __name__ == \"__main__\":\n",
    "    main()"
   ]
  },
  {
   "cell_type": "code",
   "execution_count": 1,
   "id": "b7c47f7c",
   "metadata": {
    "ExecuteTime": {
     "end_time": "2024-04-09T15:44:59.598664Z",
     "start_time": "2024-04-09T15:44:13.154689Z"
    },
    "scrolled": false
   },
   "outputs": [
    {
     "data": {
      "application/vnd.jupyter.widget-view+json": {
       "model_id": "8b9da14f5bdf41fd958ddd40b496064c",
       "version_major": 2,
       "version_minor": 0
      },
      "text/plain": [
       "VBox(children=(HBox(children=(Label(value='Please enter the next goal -> '), FloatText(value=1.0, description=…"
      ]
     },
     "metadata": {},
     "output_type": "display_data"
    },
    {
     "name": "stdout",
     "output_type": "stream",
     "text": [
      "Unable to register with master node [http://localhost:11311]: master may not be running yet. Will keep trying.\n"
     ]
    },
    {
     "data": {
      "application/vnd.jupyter.widget-view+json": {
       "model_id": "8a2eaa792d954f2f9d63382fbea3664c",
       "version_major": 2,
       "version_minor": 0
      },
      "text/plain": [
       "Canvas(toolbar=Toolbar(toolitems=[('Home', 'Reset original view', 'home', 'home'), ('Back', 'Back to previous …"
      ]
     },
     "metadata": {},
     "output_type": "display_data"
    }
   ],
   "source": [
    "import rospy\n",
    "import ipywidgets as widgets\n",
    "from ipywidgets import Button, Layout, ButtonStyle, VBox, HBox, Label\n",
    "from assignment_2_2023.msg import CustomStatus\n",
    "from assignment_2_2023.srv import Input, Goal\n",
    "import numpy as np\n",
    "import matplotlib as mpl\n",
    "import matplotlib.pyplot as plt\n",
    "import threading\n",
    "import time\n",
    "\n",
    "next_position_x = widgets.FloatText(\n",
    "    value=1,\n",
    "    description='X:',\n",
    "    disabled=False,\n",
    "    layout=Layout(width = '150px', align = \"left\")\n",
    ")\n",
    "next_position_y = widgets.FloatText(\n",
    "    value=1,\n",
    "    description='Y:',\n",
    "    disabled=False,\n",
    "    layout = Layout(width = '150px')\n",
    ")\n",
    "send_goal = Button(description='Send Goal',\n",
    "                  style=ButtonStyle(button_color='lightgreen'))\n",
    "cancel = Button(description='Cancel',\n",
    "layout=Layout(width='auto', align=\"center\"),\n",
    "style=ButtonStyle(button_color='red'))\n",
    "output_display = widgets.Text(description='Status: ', disabled=True)\n",
    "a = VBox([HBox([Label(\"Please enter the next goal -> \"),next_position_x, next_position_y, send_goal, cancel]),\n",
    "      output_display,\n",
    "     Label(\"Position graph:\"),\n",
    "     ])\n",
    "\n",
    "\n",
    "x_plot = []\n",
    "y_plot = []\n",
    "\n",
    "#plt.show()\n",
    "\n",
    "def plot(x_plot,y_plot):\n",
    "    np_x_plot = np.array(x_plot)\n",
    "    np_y_plot = np.array(y_plot)\n",
    "    ax.plot(np_x_plot,np_y_plot, 'b')\n",
    "\n",
    "            \n",
    "def positionCallback(msg):\n",
    "    global x_plot, y_plot \n",
    "    x_plot.append(msg.x)\n",
    "    y_plot.append(msg.y)\n",
    "    plot(x_plot,y_plot)    \n",
    "\n",
    "\n",
    "def on_send_goal_pressed(a):\n",
    "    send_input(\"(\"+str(next_position_x.value)+\",\"+str(next_position_y.value)+\")\")\n",
    "    ax.plot(next_position_x.value, next_position_y.value, 'go')\n",
    "    \n",
    "def on_cancel_pressed(b):\n",
    "    goal = get_goal()\n",
    "    send_input(\"cancel\")\n",
    "    ax.plot(goal.goal_x, goal.goal_y, 'ro')\n",
    "    \n",
    "def set_goal_status():\n",
    "    counter = 0\n",
    "    while(True):\n",
    "        goal = get_goal()\n",
    "        output_display.value = goal.status\n",
    "        time.sleep(1)\n",
    "    \n",
    "send_goal.on_click(on_send_goal_pressed)\n",
    "cancel.on_click(on_cancel_pressed)\n",
    "display(a)\n",
    "\n",
    "%matplotlib widget\n",
    "rospy.init_node('input_sender')\n",
    "sub = rospy.Subscriber('assignment_2_2023/customStatus', CustomStatus, positionCallback)\n",
    "\n",
    "fig = plt.figure()\n",
    "ax = fig.add_axes([0,0,1,1])\n",
    "ax.set_xlim(-15, 15)\n",
    "ax.set_ylim(-15, 15)\n",
    "ax.set_title(\"my_turtle\")\n",
    "ax.set_xlabel(\"x\")\n",
    "ax.set_ylabel(\"y\")\n",
    "ax.invert_xaxis()\n",
    "ax.invert_yaxis()\n",
    "ax.set_aspect('equal', adjustable='box')\n",
    "# box border\n",
    "ax.plot([10,-10,-10,10,10],[10,10,-10,-10,10],'y')\n",
    "# obstacles\n",
    "ax.plot([4, -5, -5], [-0.5, -0.5, -5], 'brown')\n",
    "ax.plot([-7,5], [4.5,4.5], 'brown')\n",
    "\n",
    "rospy.wait_for_service('/assignment2_2023/input_string');\n",
    "rospy.wait_for_service('/assignment_2_2023/last_goal');\n",
    "send_input = rospy.ServiceProxy('/assignment2_2023/input_string', Input)\n",
    "get_goal = rospy.ServiceProxy('/assignment_2_2023/last_goal', Goal)\n",
    "thread = threading.Thread(target=set_goal_status)\n",
    "thread.start()\n"
   ]
  },
  {
   "cell_type": "code",
   "execution_count": null,
   "id": "e46c2e14",
   "metadata": {},
   "outputs": [],
   "source": []
  }
 ],
 "metadata": {
  "kernelspec": {
   "display_name": "Python 3 (ipykernel)",
   "language": "python",
   "name": "python3"
  },
  "language_info": {
   "codemirror_mode": {
    "name": "ipython",
    "version": 3
   },
   "file_extension": ".py",
   "mimetype": "text/x-python",
   "name": "python",
   "nbconvert_exporter": "python",
   "pygments_lexer": "ipython3",
   "version": "3.8.5"
  },
  "toc": {
   "base_numbering": 1,
   "nav_menu": {},
   "number_sections": true,
   "sideBar": true,
   "skip_h1_title": false,
   "title_cell": "Table of Contents",
   "title_sidebar": "Contents",
   "toc_cell": false,
   "toc_position": {},
   "toc_section_display": true,
   "toc_window_display": false
  },
  "varInspector": {
   "cols": {
    "lenName": 16,
    "lenType": 16,
    "lenVar": 40
   },
   "kernels_config": {
    "python": {
     "delete_cmd_postfix": "",
     "delete_cmd_prefix": "del ",
     "library": "var_list.py",
     "varRefreshCmd": "print(var_dic_list())"
    },
    "r": {
     "delete_cmd_postfix": ") ",
     "delete_cmd_prefix": "rm(",
     "library": "var_list.r",
     "varRefreshCmd": "cat(var_dic_list()) "
    }
   },
   "types_to_exclude": [
    "module",
    "function",
    "builtin_function_or_method",
    "instance",
    "_Feature"
   ],
   "window_display": false
  }
 },
 "nbformat": 4,
 "nbformat_minor": 5
}
